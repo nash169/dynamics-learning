{
 "cells": [
  {
   "cell_type": "code",
   "execution_count": 2,
   "metadata": {},
   "outputs": [],
   "source": [
    "#!/usr/bin/env python\n",
    "import sys\n",
    "# sys.path.append('/home/carol/repos/emg-regression')\n",
    "sys.path.append('/Users/carol/repos/emg-regression')"
   ]
  },
  {
   "cell_type": "code",
   "execution_count": 3,
   "metadata": {},
   "outputs": [],
   "source": [
    "import pickle\n",
    "import torch\n",
    "import numpy as np\n",
    "from scipy import signal\n",
    "import matplotlib.pyplot as plt\n",
    "from emg_regression.utils.data_processing import Data_processing\n",
    "from emg_regression.utils.trainer import Trainer\n",
    "from emg_regression.utils.model_tools import *\n",
    "from emg_regression.approximators.lstm import LSTM"
   ]
  },
  {
   "cell_type": "markdown",
   "metadata": {},
   "source": [
    "# Parameters to test"
   ]
  },
  {
   "cell_type": "code",
   "execution_count": null,
   "metadata": {},
   "outputs": [],
   "source": [
    "input_data = ['rms','nzc+rms']\n",
    "\n",
    "filt_features    = [True]\n",
    "normalize_input  = [True]\n",
    "normalize_output = [True]\n",
    "\n",
    "dim_hidden     = [20,40,60]\n",
    "nb_layers      = [2,8]\n",
    "dim_pre_output = [20,40,60]\n",
    "bidirectional  = [False]\n",
    "\n",
    "time_window    = [0.5,1,2,3,5]\n",
    "\n",
    "mini_batch_size = [30,50] \n",
    "learning_rate   = [1e-2, 1e-3]\n",
    "weight_decay    = [1e-3,1e-5]"
   ]
  },
  {
   "cell_type": "code",
   "execution_count": 4,
   "metadata": {},
   "outputs": [],
   "source": [
    "input_data = ['rms','nzc+rms']\n",
    "\n",
    "filt_features    = [True]\n",
    "normalize_input  = [True]\n",
    "normalize_output = [True]\n",
    "\n",
    "dim_hidden     = [60]\n",
    "nb_layers      = [2,8]\n",
    "dim_pre_output = [60]\n",
    "bidirectional  = [True]\n",
    "\n",
    "time_window    = [0.5,1,3,5]\n",
    "\n",
    "nb_epochs = 200\n",
    "mini_batch_size = [50] \n",
    "learning_rate   = [1e-2]\n",
    "weight_decay    = [1e-5]\n",
    "\n",
    "training_ratio = 0.75"
   ]
  },
  {
   "cell_type": "code",
   "execution_count": 54,
   "metadata": {},
   "outputs": [],
   "source": [
    "input_data_ = ['rms','nzc+rms']\n",
    "\n",
    "filt_features_    = [True]\n",
    "normalize_input_  = [True]\n",
    "normalize_output_ = [True]\n",
    "\n",
    "dim_hidden_     = [20]\n",
    "nb_layers_      = [2]\n",
    "dim_pre_output_ = [20]\n",
    "bidirectional_  = [False]\n",
    "\n",
    "time_window_    = [0.3,0.5,1,1.3]\n",
    "\n",
    "nb_epochs        = 200\n",
    "mini_batch_size_ = [50]\n",
    "learning_rate_   = [1e-2]\n",
    "weight_decay_    = [1e-5]\n",
    "\n",
    "training_ratio = 0.75"
   ]
  },
  {
   "cell_type": "markdown",
   "metadata": {},
   "source": [
    "# Build grid"
   ]
  },
  {
   "cell_type": "code",
   "execution_count": 55,
   "metadata": {},
   "outputs": [
    {
     "name": "stdout",
     "output_type": "stream",
     "text": [
      "number of combinations: 12\n",
      "number of parameters: 12\n",
      "grid shape: (12, 15)\n"
     ]
    }
   ],
   "source": [
    "from itertools import product\n",
    "\n",
    "# Create a list of all possible combinations of hyperparameters\n",
    "hyperparam_combinations = list(product(\n",
    "    input_data_, filt_features_, normalize_input_, normalize_output_,\n",
    "    dim_hidden_, nb_layers_, dim_pre_output_, bidirectional_,\n",
    "    time_window_, mini_batch_size_, learning_rate_, weight_decay_\n",
    "))\n",
    "\n",
    "nb_combinations = len(hyperparam_combinations)\n",
    "print(f\"number of combinations: {nb_combinations}\")\n",
    "\n",
    "\n",
    "all_params = [input_data_, filt_features_, normalize_input_, normalize_output_,\n",
    "              dim_hidden_, nb_layers_, dim_pre_output_, bidirectional_,\n",
    "              time_window_, mini_batch_size_, learning_rate_, weight_decay_]\n",
    "\n",
    "nb_params = len(all_params)\n",
    "print(f\"number of parameters: {nb_params}\")\n",
    "\n",
    "# Create a grid to store hyperparameters, regression performances\n",
    "nb_res = 3   # train mse, test mse and nb params of the model\n",
    "results_grid = np.zeros((nb_combinations, nb_params+nb_res),dtype=object)\n",
    "print(f\"grid shape: {results_grid.shape}\")\n",
    "\n",
    "device = torch.device(\"cuda\" if torch.cuda.is_available() else \"cpu\")"
   ]
  },
  {
   "cell_type": "markdown",
   "metadata": {},
   "source": [
    "# Prepare data and run grid search"
   ]
  },
  {
   "cell_type": "code",
   "execution_count": 56,
   "metadata": {},
   "outputs": [
    {
     "name": "stdout",
     "output_type": "stream",
     "text": [
      "(2310, 8) (2310, 2) (2310,) (2310, 8)\n"
     ]
    }
   ],
   "source": [
    "data_path = '../data/trunk_data/data_02_27.pkl'\n",
    "data_ = pickle.load(open(data_path,'rb'))\n",
    "data = Data_processing(data_,degrees=0,downsample_factor=1)\n",
    "data.load_data()\n",
    "features, target, time = data.get_emgfeatures(data.emgdata,data.desCmd,data.t)\n",
    "features_filt = data.filter_features()\n",
    "fs = data.fs_features\n",
    "\n",
    "print(features.shape, target.shape, time.shape, features_filt.shape)"
   ]
  },
  {
   "cell_type": "code",
   "execution_count": 58,
   "metadata": {},
   "outputs": [
    {
     "ename": "IndexError",
     "evalue": "index 2310 is out of bounds for axis 0 with size 2310",
     "output_type": "error",
     "traceback": [
      "\u001b[0;31m---------------------------------------------------------------------------\u001b[0m",
      "\u001b[0;31mIndexError\u001b[0m                                Traceback (most recent call last)",
      "\u001b[1;32m/Users/carol/repos/emg-regression/examples/grid-search.ipynb Cell 11\u001b[0m line \u001b[0;36m<module>\u001b[0;34m\u001b[0m\n\u001b[1;32m     <a href='vscode-notebook-cell:/Users/carol/repos/emg-regression/examples/grid-search.ipynb#X10sZmlsZQ%3D%3D?line=30'>31</a>\u001b[0m approximator \u001b[39m=\u001b[39m LSTM(dim_input, dim_hidden, nb_layers,\n\u001b[1;32m     <a href='vscode-notebook-cell:/Users/carol/repos/emg-regression/examples/grid-search.ipynb#X10sZmlsZQ%3D%3D?line=31'>32</a>\u001b[0m                 dim_pre_output, dim_output, bidirectional)\u001b[39m.\u001b[39mto(device)\n\u001b[1;32m     <a href='vscode-notebook-cell:/Users/carol/repos/emg-regression/examples/grid-search.ipynb#X10sZmlsZQ%3D%3D?line=34'>35</a>\u001b[0m train_x, test_x, train_y, test_y, t_train, t_test \u001b[39m=\u001b[39m split_train_test(features,target,\n\u001b[1;32m     <a href='vscode-notebook-cell:/Users/carol/repos/emg-regression/examples/grid-search.ipynb#X10sZmlsZQ%3D%3D?line=35'>36</a>\u001b[0m                                                                      training_ratio,\n\u001b[1;32m     <a href='vscode-notebook-cell:/Users/carol/repos/emg-regression/examples/grid-search.ipynb#X10sZmlsZQ%3D%3D?line=36'>37</a>\u001b[0m                                                                      t\u001b[39m=\u001b[39mtime)\n\u001b[0;32m---> <a href='vscode-notebook-cell:/Users/carol/repos/emg-regression/examples/grid-search.ipynb#X10sZmlsZQ%3D%3D?line=38'>39</a>\u001b[0m XTrain, YTrain, T_train \u001b[39m=\u001b[39m approximator\u001b[39m.\u001b[39;49mprocess_input(train_x, window_size, offset\u001b[39m=\u001b[39;49m\u001b[39m1\u001b[39;49m,\n\u001b[1;32m     <a href='vscode-notebook-cell:/Users/carol/repos/emg-regression/examples/grid-search.ipynb#X10sZmlsZQ%3D%3D?line=39'>40</a>\u001b[0m                                                     y\u001b[39m=\u001b[39;49mtrain_y, time\u001b[39m=\u001b[39;49mt_train)\n\u001b[1;32m     <a href='vscode-notebook-cell:/Users/carol/repos/emg-regression/examples/grid-search.ipynb#X10sZmlsZQ%3D%3D?line=41'>42</a>\u001b[0m XTest, YTest, T_test \u001b[39m=\u001b[39m approximator\u001b[39m.\u001b[39mprocess_input(test_x, window_size, offset\u001b[39m=\u001b[39m\u001b[39m1\u001b[39m,\n\u001b[1;32m     <a href='vscode-notebook-cell:/Users/carol/repos/emg-regression/examples/grid-search.ipynb#X10sZmlsZQ%3D%3D?line=42'>43</a>\u001b[0m                                                     y\u001b[39m=\u001b[39mtest_y, time\u001b[39m=\u001b[39mt_test)\n\u001b[1;32m     <a href='vscode-notebook-cell:/Users/carol/repos/emg-regression/examples/grid-search.ipynb#X10sZmlsZQ%3D%3D?line=45'>46</a>\u001b[0m \u001b[39m# Train\u001b[39;00m\n",
      "File \u001b[0;32m~/repos/emg-regression/emg_regression/approximators/lstm.py:74\u001b[0m, in \u001b[0;36mLSTM.process_input\u001b[0;34m(self, x, window_size, offset, y, time)\u001b[0m\n\u001b[1;32m     72\u001b[0m         Y \u001b[39m=\u001b[39m torch\u001b[39m.\u001b[39mcat((Y, y))\n\u001b[1;32m     73\u001b[0m     \u001b[39mif\u001b[39;00m time \u001b[39mis\u001b[39;00m \u001b[39mnot\u001b[39;00m \u001b[39mNone\u001b[39;00m:\n\u001b[0;32m---> 74\u001b[0m         t \u001b[39m=\u001b[39m np\u001b[39m.\u001b[39mappend(t,time[k\u001b[39m+\u001b[39;49mwindow_size\u001b[39m-\u001b[39;49m\u001b[39m1\u001b[39;49m])\n\u001b[1;32m     76\u001b[0m \u001b[39mreturn\u001b[39;00m X[\u001b[39m1\u001b[39m:]\u001b[39m.\u001b[39mfloat(), Y[\u001b[39m1\u001b[39m:,:]\u001b[39m.\u001b[39mfloat(), t\n",
      "\u001b[0;31mIndexError\u001b[0m: index 2310 is out of bounds for axis 0 with size 2310"
     ]
    }
   ],
   "source": [
    "for count, params in enumerate(hyperparam_combinations):\n",
    "\n",
    "    (input_data, filt_features, normalize_input, normalize_output, \n",
    "    dim_hidden, nb_layers, dim_pre_output, bidirectional, \n",
    "    time_window, mini_batch_size, learning_rate, weight_decay) = params\n",
    "\n",
    "    if filt_features:\n",
    "        features = features_filt\n",
    "\n",
    "    if input_data == 'rms':\n",
    "        features = features[:,:4]\n",
    "\n",
    "    if normalize_input:\n",
    "        x_mu, x_std = features.mean(0), features.std(0)\n",
    "        features = (features-x_mu)/x_std\n",
    "\n",
    "    if normalize_output:\n",
    "        ymin, ymax = abs(target.min(0)), abs(target.max(0))\n",
    "        target = np.where(target>=0, target/ymax, target/ymin)\n",
    "\n",
    "\n",
    "    dim_input  = features.shape[1]\n",
    "    dim_output = target.shape[1]\n",
    "    window_size = int(time_window*fs)\n",
    "\n",
    "\n",
    "    approximator = LSTM(dim_input, dim_hidden, nb_layers,\n",
    "                    dim_pre_output, dim_output, bidirectional).to(device)\n",
    "\n",
    "\n",
    "    train_x, test_x, train_y, test_y, t_train, t_test = split_train_test(features,target,\n",
    "                                                                         training_ratio,\n",
    "                                                                         t=time)\n",
    "\n",
    "    XTrain, YTrain, T_train = approximator.process_input(train_x, window_size, offset=1,\n",
    "                                                        y=train_y, time=t_train)\n",
    "\n",
    "    XTest, YTest, T_test = approximator.process_input(test_x, window_size, offset=1,\n",
    "                                                        y=test_y, time=t_test)\n",
    "\n",
    "\n",
    "    # Train\n",
    "    trainer = Trainer(model=approximator, input=XTrain, target=YTrain)\n",
    "    trainer.options(normalize_input=False,\n",
    "                    normalize_output=False,\n",
    "                    epochs=nb_epochs,\n",
    "                    batch=mini_batch_size,\n",
    "                    shuffle=False,\n",
    "                    record_loss=True,\n",
    "                    print_loss=False)\n",
    "\n",
    "    trainer.optimizer = torch.optim.Adam(approximator.parameters(),\n",
    "                                        lr=learning_rate,\n",
    "                                        weight_decay=weight_decay)\n",
    "\n",
    "    trainer.train()\n",
    "    model = trainer.model\n",
    "    mse_train, mse_test = evaluate_model(model,\n",
    "                                        XTrain=XTrain,YTrain=YTrain,\n",
    "                                        XTest=XTest,YTest=YTest,\n",
    "                                        t_train=T_train, t_test=T_test,\n",
    "                                        vis=0)\n",
    "\n",
    "    # Compute number of parameters in the model\n",
    "    total_nb_parameters = 0\n",
    "    for p in model.parameters():\n",
    "        total_nb_parameters += p.nelement()\n",
    "\n",
    "    # Fill results' grid\n",
    "    results_grid[count, 0] = input_data\n",
    "    results_grid[count, 1] = filt_features\n",
    "    results_grid[count, 2] = normalize_input\n",
    "    results_grid[count, 3] = normalize_output\n",
    "    results_grid[count, 4] = dim_hidden\n",
    "    results_grid[count, 5] = nb_layers\n",
    "    results_grid[count, 6] = dim_pre_output\n",
    "    results_grid[count, 7] = bidirectional\n",
    "    results_grid[count, 8] = time_window\n",
    "    results_grid[count, 9] = mini_batch_size\n",
    "    results_grid[count,10] = learning_rate\n",
    "    results_grid[count,11] = weight_decay\n",
    "    results_grid[count,12] = float(mse_train)\n",
    "    results_grid[count,13] = float(mse_test)\n",
    "    results_grid[count,14] = int(total_nb_parameters)\n",
    "\n",
    "    print('Combinations tested: {:d}/{:d}'.format(count+1, nb_combinations))\n"
   ]
  },
  {
   "cell_type": "markdown",
   "metadata": {},
   "source": [
    "# Analyze grid results"
   ]
  },
  {
   "cell_type": "code",
   "execution_count": 49,
   "metadata": {},
   "outputs": [],
   "source": [
    "# Save grid!\n",
    "grid_path = '../data/grid_search_5.pkl'\n",
    "gdata = {'grid': results_grid}\n",
    "f = open(grid_path , \"wb\")\n",
    "pickle.dump(gdata, f)\n",
    "f.close()   "
   ]
  },
  {
   "cell_type": "code",
   "execution_count": 52,
   "metadata": {},
   "outputs": [
    {
     "data": {
      "image/png": "[encoded data removed]",
      "text/plain": [
       "<Figure size 576x1008 with 12 Axes>"
      ]
     },
     "metadata": {
      "needs_background": "light"
     },
     "output_type": "display_data"
    }
   ],
   "source": [
    "param_names = ['input_data', 'filt_features', 'normalize_input', 'normalize_output', \n",
    "               'dim_hidden', 'nb_layers', 'dim_pre_output', 'bidirectional', \n",
    "               'time_window', 'mini_batch_size', 'learning_rate', 'weight_decay']\n",
    "\n",
    "\n",
    "fig, axes = plt.subplots(6,2,figsize=(8,14))\n",
    "colors = ['seagreen','indianred']\n",
    "width = 0.35\n",
    "\n",
    "for i, ax in enumerate(axes.flat):\n",
    "    ax.set_title(param_names[i])\n",
    "\n",
    "    param_k = all_params[i]\n",
    "    xval = np.arange(len(param_k))\n",
    "\n",
    "    mse_train_k, mse_test_k, params_k = [],[],[]\n",
    "\n",
    "    for j in range(len(param_k)):\n",
    "        idx_param_j = np.where(results_grid[:,i] == param_k[j])[0]\n",
    "        mse_train_j, mse_test_j, nb_params_j = results_grid[idx_param_j,-3:].T\n",
    "        if len(idx_param_j) > 0:\n",
    "            mse_train_j, mse_test_j, _ = results_grid[idx_param_j, -3:].T\n",
    "            mse_train_k.append(np.array(mse_train_j).mean(0))\n",
    "            mse_test_k.append(np.array(mse_test_j).mean(0))\n",
    "        else:\n",
    "            mse_train_k.append(0)\n",
    "            mse_test_k.append(0)\n",
    "    \n",
    "    ax.bar(xval - width/2, mse_train_k, width, label='MSE Train',color=colors[0])\n",
    "    ax.bar(xval + width/2, mse_test_k, width,  label='MSE Test', color=colors[1])\n",
    "        \n",
    "    ax.set_xticks(xval)\n",
    "    ax.set_xticklabels(param_k)\n",
    "    ax.grid()\n",
    "\n",
    "handles, labels = ax.get_legend_handles_labels()\n",
    "fig.legend(handles, labels, loc='lower center', ncol=2, fontsize='small')\n",
    "\n",
    "plt.tight_layout()\n",
    "plt.show()\n",
    "\n",
    "fig.savefig('../figures/grid3.png', dpi=300, facecolor='w')    \n",
    "\n"
   ]
  },
  {
   "cell_type": "code",
   "execution_count": 53,
   "metadata": {},
   "outputs": [
    {
     "name": "stdout",
     "output_type": "stream",
     "text": [
      "  input_data nb_layers time_window mse_train  mse_test nbparams\n",
      "0    nzc+rms         2         0.5  0.021181  0.040785     6222\n",
      "1    nzc+rms         2         1.3  0.016647  0.043362     6222\n",
      "2    nzc+rms         2           1  0.004113  0.045219     6222\n",
      "3    nzc+rms         2         0.3  0.020024  0.047931     6222\n",
      "4    nzc+rms         2         1.5  0.012273   0.05153     6222\n",
      "5    nzc+rms         2           3  0.011724  0.056507     6222\n"
     ]
    }
   ],
   "source": [
    "import pandas as pd\n",
    "\n",
    "param_names_all = ['input_data', 'filt_features', 'normalize_input', 'normalize_output', \n",
    "               'dim_hidden', 'nb_layers', 'dim_pre_output', 'bidirectional', \n",
    "               'time_window', 'mini_batch_size', 'learning_rate', 'weight_decay',\n",
    "               'mse_train','mse_test','nbparams']\n",
    "\n",
    "col_to_keep = [0,5,8,12,13,14]\n",
    "\n",
    "# order by best combinations\n",
    "mse_train_order = np.argsort(results_grid[:,-3],0)\n",
    "mse_test_order = np.argsort(results_grid[:,-2],0)\n",
    "sorted_grid_train = results_grid[mse_train_order][:,col_to_keep]\n",
    "sorted_grid_test  = results_grid[mse_test_order][:,col_to_keep]\n",
    "\n",
    "df = pd.DataFrame(sorted_grid_test, columns=np.array(param_names_all)[col_to_keep])\n",
    "print(df)"
   ]
  }
 ],
 "metadata": {
  "kernelspec": {
   "display_name": "Python 3",
   "language": "python",
   "name": "python3"
  },
  "language_info": {
   "codemirror_mode": {
    "name": "ipython",
    "version": 3
   },
   "file_extension": ".py",
   "mimetype": "text/x-python",
   "name": "python",
   "nbconvert_exporter": "python",
   "pygments_lexer": "ipython3",
   "version": "3.9.9"
  }
 },
 "nbformat": 4,
 "nbformat_minor": 2
}
